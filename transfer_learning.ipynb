{
  "nbformat": 4,
  "nbformat_minor": 0,
  "metadata": {
    "colab": {
      "name": "transfer learning.ipynb",
      "provenance": [],
      "authorship_tag": "ABX9TyO98W2kClhZn7Fi4JJUYPCT",
      "include_colab_link": true
    },
    "kernelspec": {
      "name": "python3",
      "display_name": "Python 3"
    },
    "language_info": {
      "name": "python"
    },
    "accelerator": "GPU",
    "widgets": {
      "application/vnd.jupyter.widget-state+json": {
        "288f321615ae42a78176bb80dd1b6e46": {
          "model_module": "@jupyter-widgets/controls",
          "model_name": "HBoxModel",
          "model_module_version": "1.5.0",
          "state": {
            "_view_name": "HBoxView",
            "_dom_classes": [],
            "_model_name": "HBoxModel",
            "_view_module": "@jupyter-widgets/controls",
            "_model_module_version": "1.5.0",
            "_view_count": null,
            "_view_module_version": "1.5.0",
            "box_style": "",
            "layout": "IPY_MODEL_b73eacc455b348ca856484569f315b69",
            "_model_module": "@jupyter-widgets/controls",
            "children": [
              "IPY_MODEL_bac5ecd8b9ec4066822c2016ade85a91",
              "IPY_MODEL_f89db200223f4ef29bd3114edc260a68",
              "IPY_MODEL_f79e2fc29d204a4a9380ad4a47cd0acf"
            ]
          }
        },
        "b73eacc455b348ca856484569f315b69": {
          "model_module": "@jupyter-widgets/base",
          "model_name": "LayoutModel",
          "model_module_version": "1.2.0",
          "state": {
            "_view_name": "LayoutView",
            "grid_template_rows": null,
            "right": null,
            "justify_content": null,
            "_view_module": "@jupyter-widgets/base",
            "overflow": null,
            "_model_module_version": "1.2.0",
            "_view_count": null,
            "flex_flow": null,
            "width": null,
            "min_width": null,
            "border": null,
            "align_items": null,
            "bottom": null,
            "_model_module": "@jupyter-widgets/base",
            "top": null,
            "grid_column": null,
            "overflow_y": null,
            "overflow_x": null,
            "grid_auto_flow": null,
            "grid_area": null,
            "grid_template_columns": null,
            "flex": null,
            "_model_name": "LayoutModel",
            "justify_items": null,
            "grid_row": null,
            "max_height": null,
            "align_content": null,
            "visibility": null,
            "align_self": null,
            "height": null,
            "min_height": null,
            "padding": null,
            "grid_auto_rows": null,
            "grid_gap": null,
            "max_width": null,
            "order": null,
            "_view_module_version": "1.2.0",
            "grid_template_areas": null,
            "object_position": null,
            "object_fit": null,
            "grid_auto_columns": null,
            "margin": null,
            "display": null,
            "left": null
          }
        },
        "bac5ecd8b9ec4066822c2016ade85a91": {
          "model_module": "@jupyter-widgets/controls",
          "model_name": "HTMLModel",
          "model_module_version": "1.5.0",
          "state": {
            "_view_name": "HTMLView",
            "style": "IPY_MODEL_1e406d1944174d5a9c29897d6c706aaf",
            "_dom_classes": [],
            "description": "",
            "_model_name": "HTMLModel",
            "placeholder": "​",
            "_view_module": "@jupyter-widgets/controls",
            "_model_module_version": "1.5.0",
            "value": "Dl Completed...: 100%",
            "_view_count": null,
            "_view_module_version": "1.5.0",
            "description_tooltip": null,
            "_model_module": "@jupyter-widgets/controls",
            "layout": "IPY_MODEL_7a6baa204ab344c0ae0641afb8cdd9c8"
          }
        },
        "f89db200223f4ef29bd3114edc260a68": {
          "model_module": "@jupyter-widgets/controls",
          "model_name": "FloatProgressModel",
          "model_module_version": "1.5.0",
          "state": {
            "_view_name": "ProgressView",
            "style": "IPY_MODEL_75f8353788cf4bd4b6f6de2453d4690a",
            "_dom_classes": [],
            "description": "",
            "_model_name": "FloatProgressModel",
            "bar_style": "success",
            "max": 1,
            "_view_module": "@jupyter-widgets/controls",
            "_model_module_version": "1.5.0",
            "value": 1,
            "_view_count": null,
            "_view_module_version": "1.5.0",
            "orientation": "horizontal",
            "min": 0,
            "description_tooltip": null,
            "_model_module": "@jupyter-widgets/controls",
            "layout": "IPY_MODEL_1fddd58700384ca5856c3a71a4f12c77"
          }
        },
        "f79e2fc29d204a4a9380ad4a47cd0acf": {
          "model_module": "@jupyter-widgets/controls",
          "model_name": "HTMLModel",
          "model_module_version": "1.5.0",
          "state": {
            "_view_name": "HTMLView",
            "style": "IPY_MODEL_eadd09de6f5c42bbbf7fdb14de2c654d",
            "_dom_classes": [],
            "description": "",
            "_model_name": "HTMLModel",
            "placeholder": "​",
            "_view_module": "@jupyter-widgets/controls",
            "_model_module_version": "1.5.0",
            "value": " 1/1 [00:12&lt;00:00, 12.46s/ url]",
            "_view_count": null,
            "_view_module_version": "1.5.0",
            "description_tooltip": null,
            "_model_module": "@jupyter-widgets/controls",
            "layout": "IPY_MODEL_9ce221ef6c2f4b209201f5455ec5bbd6"
          }
        },
        "1e406d1944174d5a9c29897d6c706aaf": {
          "model_module": "@jupyter-widgets/controls",
          "model_name": "DescriptionStyleModel",
          "model_module_version": "1.5.0",
          "state": {
            "_view_name": "StyleView",
            "_model_name": "DescriptionStyleModel",
            "description_width": "",
            "_view_module": "@jupyter-widgets/base",
            "_model_module_version": "1.5.0",
            "_view_count": null,
            "_view_module_version": "1.2.0",
            "_model_module": "@jupyter-widgets/controls"
          }
        },
        "7a6baa204ab344c0ae0641afb8cdd9c8": {
          "model_module": "@jupyter-widgets/base",
          "model_name": "LayoutModel",
          "model_module_version": "1.2.0",
          "state": {
            "_view_name": "LayoutView",
            "grid_template_rows": null,
            "right": null,
            "justify_content": null,
            "_view_module": "@jupyter-widgets/base",
            "overflow": null,
            "_model_module_version": "1.2.0",
            "_view_count": null,
            "flex_flow": null,
            "width": null,
            "min_width": null,
            "border": null,
            "align_items": null,
            "bottom": null,
            "_model_module": "@jupyter-widgets/base",
            "top": null,
            "grid_column": null,
            "overflow_y": null,
            "overflow_x": null,
            "grid_auto_flow": null,
            "grid_area": null,
            "grid_template_columns": null,
            "flex": null,
            "_model_name": "LayoutModel",
            "justify_items": null,
            "grid_row": null,
            "max_height": null,
            "align_content": null,
            "visibility": null,
            "align_self": null,
            "height": null,
            "min_height": null,
            "padding": null,
            "grid_auto_rows": null,
            "grid_gap": null,
            "max_width": null,
            "order": null,
            "_view_module_version": "1.2.0",
            "grid_template_areas": null,
            "object_position": null,
            "object_fit": null,
            "grid_auto_columns": null,
            "margin": null,
            "display": null,
            "left": null
          }
        },
        "75f8353788cf4bd4b6f6de2453d4690a": {
          "model_module": "@jupyter-widgets/controls",
          "model_name": "ProgressStyleModel",
          "model_module_version": "1.5.0",
          "state": {
            "_view_name": "StyleView",
            "_model_name": "ProgressStyleModel",
            "description_width": "",
            "_view_module": "@jupyter-widgets/base",
            "_model_module_version": "1.5.0",
            "_view_count": null,
            "_view_module_version": "1.2.0",
            "bar_color": null,
            "_model_module": "@jupyter-widgets/controls"
          }
        },
        "1fddd58700384ca5856c3a71a4f12c77": {
          "model_module": "@jupyter-widgets/base",
          "model_name": "LayoutModel",
          "model_module_version": "1.2.0",
          "state": {
            "_view_name": "LayoutView",
            "grid_template_rows": null,
            "right": null,
            "justify_content": null,
            "_view_module": "@jupyter-widgets/base",
            "overflow": null,
            "_model_module_version": "1.2.0",
            "_view_count": null,
            "flex_flow": null,
            "width": "20px",
            "min_width": null,
            "border": null,
            "align_items": null,
            "bottom": null,
            "_model_module": "@jupyter-widgets/base",
            "top": null,
            "grid_column": null,
            "overflow_y": null,
            "overflow_x": null,
            "grid_auto_flow": null,
            "grid_area": null,
            "grid_template_columns": null,
            "flex": null,
            "_model_name": "LayoutModel",
            "justify_items": null,
            "grid_row": null,
            "max_height": null,
            "align_content": null,
            "visibility": null,
            "align_self": null,
            "height": null,
            "min_height": null,
            "padding": null,
            "grid_auto_rows": null,
            "grid_gap": null,
            "max_width": null,
            "order": null,
            "_view_module_version": "1.2.0",
            "grid_template_areas": null,
            "object_position": null,
            "object_fit": null,
            "grid_auto_columns": null,
            "margin": null,
            "display": null,
            "left": null
          }
        },
        "eadd09de6f5c42bbbf7fdb14de2c654d": {
          "model_module": "@jupyter-widgets/controls",
          "model_name": "DescriptionStyleModel",
          "model_module_version": "1.5.0",
          "state": {
            "_view_name": "StyleView",
            "_model_name": "DescriptionStyleModel",
            "description_width": "",
            "_view_module": "@jupyter-widgets/base",
            "_model_module_version": "1.5.0",
            "_view_count": null,
            "_view_module_version": "1.2.0",
            "_model_module": "@jupyter-widgets/controls"
          }
        },
        "9ce221ef6c2f4b209201f5455ec5bbd6": {
          "model_module": "@jupyter-widgets/base",
          "model_name": "LayoutModel",
          "model_module_version": "1.2.0",
          "state": {
            "_view_name": "LayoutView",
            "grid_template_rows": null,
            "right": null,
            "justify_content": null,
            "_view_module": "@jupyter-widgets/base",
            "overflow": null,
            "_model_module_version": "1.2.0",
            "_view_count": null,
            "flex_flow": null,
            "width": null,
            "min_width": null,
            "border": null,
            "align_items": null,
            "bottom": null,
            "_model_module": "@jupyter-widgets/base",
            "top": null,
            "grid_column": null,
            "overflow_y": null,
            "overflow_x": null,
            "grid_auto_flow": null,
            "grid_area": null,
            "grid_template_columns": null,
            "flex": null,
            "_model_name": "LayoutModel",
            "justify_items": null,
            "grid_row": null,
            "max_height": null,
            "align_content": null,
            "visibility": null,
            "align_self": null,
            "height": null,
            "min_height": null,
            "padding": null,
            "grid_auto_rows": null,
            "grid_gap": null,
            "max_width": null,
            "order": null,
            "_view_module_version": "1.2.0",
            "grid_template_areas": null,
            "object_position": null,
            "object_fit": null,
            "grid_auto_columns": null,
            "margin": null,
            "display": null,
            "left": null
          }
        },
        "2c7ab7ea82164c3eb148a1ea0bbf2bf0": {
          "model_module": "@jupyter-widgets/controls",
          "model_name": "HBoxModel",
          "model_module_version": "1.5.0",
          "state": {
            "_view_name": "HBoxView",
            "_dom_classes": [],
            "_model_name": "HBoxModel",
            "_view_module": "@jupyter-widgets/controls",
            "_model_module_version": "1.5.0",
            "_view_count": null,
            "_view_module_version": "1.5.0",
            "box_style": "",
            "layout": "IPY_MODEL_864a8f4ab1304578a1730c9fefaebd5b",
            "_model_module": "@jupyter-widgets/controls",
            "children": [
              "IPY_MODEL_771170397d0441b7b31d919b02de3aa5",
              "IPY_MODEL_4ae81550bf674617a804365b6a8adf07",
              "IPY_MODEL_d7989cf1817a42298744cd12b83a9a9e"
            ]
          }
        },
        "864a8f4ab1304578a1730c9fefaebd5b": {
          "model_module": "@jupyter-widgets/base",
          "model_name": "LayoutModel",
          "model_module_version": "1.2.0",
          "state": {
            "_view_name": "LayoutView",
            "grid_template_rows": null,
            "right": null,
            "justify_content": null,
            "_view_module": "@jupyter-widgets/base",
            "overflow": null,
            "_model_module_version": "1.2.0",
            "_view_count": null,
            "flex_flow": null,
            "width": null,
            "min_width": null,
            "border": null,
            "align_items": null,
            "bottom": null,
            "_model_module": "@jupyter-widgets/base",
            "top": null,
            "grid_column": null,
            "overflow_y": null,
            "overflow_x": null,
            "grid_auto_flow": null,
            "grid_area": null,
            "grid_template_columns": null,
            "flex": null,
            "_model_name": "LayoutModel",
            "justify_items": null,
            "grid_row": null,
            "max_height": null,
            "align_content": null,
            "visibility": null,
            "align_self": null,
            "height": null,
            "min_height": null,
            "padding": null,
            "grid_auto_rows": null,
            "grid_gap": null,
            "max_width": null,
            "order": null,
            "_view_module_version": "1.2.0",
            "grid_template_areas": null,
            "object_position": null,
            "object_fit": null,
            "grid_auto_columns": null,
            "margin": null,
            "display": null,
            "left": null
          }
        },
        "771170397d0441b7b31d919b02de3aa5": {
          "model_module": "@jupyter-widgets/controls",
          "model_name": "HTMLModel",
          "model_module_version": "1.5.0",
          "state": {
            "_view_name": "HTMLView",
            "style": "IPY_MODEL_5b982d6bbd0d4d1f9a0674f0013d327f",
            "_dom_classes": [],
            "description": "",
            "_model_name": "HTMLModel",
            "placeholder": "​",
            "_view_module": "@jupyter-widgets/controls",
            "_model_module_version": "1.5.0",
            "value": "Dl Size...: 100%",
            "_view_count": null,
            "_view_module_version": "1.5.0",
            "description_tooltip": null,
            "_model_module": "@jupyter-widgets/controls",
            "layout": "IPY_MODEL_67d058a39553420681c884e546b3325c"
          }
        },
        "4ae81550bf674617a804365b6a8adf07": {
          "model_module": "@jupyter-widgets/controls",
          "model_name": "FloatProgressModel",
          "model_module_version": "1.5.0",
          "state": {
            "_view_name": "ProgressView",
            "style": "IPY_MODEL_228697396b4f4d748430af4d837ea878",
            "_dom_classes": [],
            "description": "",
            "_model_name": "FloatProgressModel",
            "bar_style": "success",
            "max": 1,
            "_view_module": "@jupyter-widgets/controls",
            "_model_module_version": "1.5.0",
            "value": 1,
            "_view_count": null,
            "_view_module_version": "1.5.0",
            "orientation": "horizontal",
            "min": 0,
            "description_tooltip": null,
            "_model_module": "@jupyter-widgets/controls",
            "layout": "IPY_MODEL_51b7b955b49745869bc91c0e35f08798"
          }
        },
        "d7989cf1817a42298744cd12b83a9a9e": {
          "model_module": "@jupyter-widgets/controls",
          "model_name": "HTMLModel",
          "model_module_version": "1.5.0",
          "state": {
            "_view_name": "HTMLView",
            "style": "IPY_MODEL_4ad12bc20dc44ca483fac2cc24654122",
            "_dom_classes": [],
            "description": "",
            "_model_name": "HTMLModel",
            "placeholder": "​",
            "_view_module": "@jupyter-widgets/controls",
            "_model_module_version": "1.5.0",
            "value": " 786/786 [00:12&lt;00:00, 70.87 MiB/s]",
            "_view_count": null,
            "_view_module_version": "1.5.0",
            "description_tooltip": null,
            "_model_module": "@jupyter-widgets/controls",
            "layout": "IPY_MODEL_ba8c6b7aa7244f5b8064162b77347015"
          }
        },
        "5b982d6bbd0d4d1f9a0674f0013d327f": {
          "model_module": "@jupyter-widgets/controls",
          "model_name": "DescriptionStyleModel",
          "model_module_version": "1.5.0",
          "state": {
            "_view_name": "StyleView",
            "_model_name": "DescriptionStyleModel",
            "description_width": "",
            "_view_module": "@jupyter-widgets/base",
            "_model_module_version": "1.5.0",
            "_view_count": null,
            "_view_module_version": "1.2.0",
            "_model_module": "@jupyter-widgets/controls"
          }
        },
        "67d058a39553420681c884e546b3325c": {
          "model_module": "@jupyter-widgets/base",
          "model_name": "LayoutModel",
          "model_module_version": "1.2.0",
          "state": {
            "_view_name": "LayoutView",
            "grid_template_rows": null,
            "right": null,
            "justify_content": null,
            "_view_module": "@jupyter-widgets/base",
            "overflow": null,
            "_model_module_version": "1.2.0",
            "_view_count": null,
            "flex_flow": null,
            "width": null,
            "min_width": null,
            "border": null,
            "align_items": null,
            "bottom": null,
            "_model_module": "@jupyter-widgets/base",
            "top": null,
            "grid_column": null,
            "overflow_y": null,
            "overflow_x": null,
            "grid_auto_flow": null,
            "grid_area": null,
            "grid_template_columns": null,
            "flex": null,
            "_model_name": "LayoutModel",
            "justify_items": null,
            "grid_row": null,
            "max_height": null,
            "align_content": null,
            "visibility": null,
            "align_self": null,
            "height": null,
            "min_height": null,
            "padding": null,
            "grid_auto_rows": null,
            "grid_gap": null,
            "max_width": null,
            "order": null,
            "_view_module_version": "1.2.0",
            "grid_template_areas": null,
            "object_position": null,
            "object_fit": null,
            "grid_auto_columns": null,
            "margin": null,
            "display": null,
            "left": null
          }
        },
        "228697396b4f4d748430af4d837ea878": {
          "model_module": "@jupyter-widgets/controls",
          "model_name": "ProgressStyleModel",
          "model_module_version": "1.5.0",
          "state": {
            "_view_name": "StyleView",
            "_model_name": "ProgressStyleModel",
            "description_width": "",
            "_view_module": "@jupyter-widgets/base",
            "_model_module_version": "1.5.0",
            "_view_count": null,
            "_view_module_version": "1.2.0",
            "bar_color": null,
            "_model_module": "@jupyter-widgets/controls"
          }
        },
        "51b7b955b49745869bc91c0e35f08798": {
          "model_module": "@jupyter-widgets/base",
          "model_name": "LayoutModel",
          "model_module_version": "1.2.0",
          "state": {
            "_view_name": "LayoutView",
            "grid_template_rows": null,
            "right": null,
            "justify_content": null,
            "_view_module": "@jupyter-widgets/base",
            "overflow": null,
            "_model_module_version": "1.2.0",
            "_view_count": null,
            "flex_flow": null,
            "width": "20px",
            "min_width": null,
            "border": null,
            "align_items": null,
            "bottom": null,
            "_model_module": "@jupyter-widgets/base",
            "top": null,
            "grid_column": null,
            "overflow_y": null,
            "overflow_x": null,
            "grid_auto_flow": null,
            "grid_area": null,
            "grid_template_columns": null,
            "flex": null,
            "_model_name": "LayoutModel",
            "justify_items": null,
            "grid_row": null,
            "max_height": null,
            "align_content": null,
            "visibility": null,
            "align_self": null,
            "height": null,
            "min_height": null,
            "padding": null,
            "grid_auto_rows": null,
            "grid_gap": null,
            "max_width": null,
            "order": null,
            "_view_module_version": "1.2.0",
            "grid_template_areas": null,
            "object_position": null,
            "object_fit": null,
            "grid_auto_columns": null,
            "margin": null,
            "display": null,
            "left": null
          }
        },
        "4ad12bc20dc44ca483fac2cc24654122": {
          "model_module": "@jupyter-widgets/controls",
          "model_name": "DescriptionStyleModel",
          "model_module_version": "1.5.0",
          "state": {
            "_view_name": "StyleView",
            "_model_name": "DescriptionStyleModel",
            "description_width": "",
            "_view_module": "@jupyter-widgets/base",
            "_model_module_version": "1.5.0",
            "_view_count": null,
            "_view_module_version": "1.2.0",
            "_model_module": "@jupyter-widgets/controls"
          }
        },
        "ba8c6b7aa7244f5b8064162b77347015": {
          "model_module": "@jupyter-widgets/base",
          "model_name": "LayoutModel",
          "model_module_version": "1.2.0",
          "state": {
            "_view_name": "LayoutView",
            "grid_template_rows": null,
            "right": null,
            "justify_content": null,
            "_view_module": "@jupyter-widgets/base",
            "overflow": null,
            "_model_module_version": "1.2.0",
            "_view_count": null,
            "flex_flow": null,
            "width": null,
            "min_width": null,
            "border": null,
            "align_items": null,
            "bottom": null,
            "_model_module": "@jupyter-widgets/base",
            "top": null,
            "grid_column": null,
            "overflow_y": null,
            "overflow_x": null,
            "grid_auto_flow": null,
            "grid_area": null,
            "grid_template_columns": null,
            "flex": null,
            "_model_name": "LayoutModel",
            "justify_items": null,
            "grid_row": null,
            "max_height": null,
            "align_content": null,
            "visibility": null,
            "align_self": null,
            "height": null,
            "min_height": null,
            "padding": null,
            "grid_auto_rows": null,
            "grid_gap": null,
            "max_width": null,
            "order": null,
            "_view_module_version": "1.2.0",
            "grid_template_areas": null,
            "object_position": null,
            "object_fit": null,
            "grid_auto_columns": null,
            "margin": null,
            "display": null,
            "left": null
          }
        },
        "4af3d9ac558042738a2f29443da807c3": {
          "model_module": "@jupyter-widgets/controls",
          "model_name": "HBoxModel",
          "model_module_version": "1.5.0",
          "state": {
            "_view_name": "HBoxView",
            "_dom_classes": [],
            "_model_name": "HBoxModel",
            "_view_module": "@jupyter-widgets/controls",
            "_model_module_version": "1.5.0",
            "_view_count": null,
            "_view_module_version": "1.5.0",
            "box_style": "",
            "layout": "IPY_MODEL_e152bcfdb00044628112cc33d72877d3",
            "_model_module": "@jupyter-widgets/controls",
            "children": [
              "IPY_MODEL_a87b0f0df1664e89977216830a8e39ef",
              "IPY_MODEL_df6b61459d7544e199a0244a545087ea",
              "IPY_MODEL_d4d95ef0ae574df3ab2c79635ec62782"
            ]
          }
        },
        "e152bcfdb00044628112cc33d72877d3": {
          "model_module": "@jupyter-widgets/base",
          "model_name": "LayoutModel",
          "model_module_version": "1.2.0",
          "state": {
            "_view_name": "LayoutView",
            "grid_template_rows": null,
            "right": null,
            "justify_content": null,
            "_view_module": "@jupyter-widgets/base",
            "overflow": null,
            "_model_module_version": "1.2.0",
            "_view_count": null,
            "flex_flow": null,
            "width": null,
            "min_width": null,
            "border": null,
            "align_items": null,
            "bottom": null,
            "_model_module": "@jupyter-widgets/base",
            "top": null,
            "grid_column": null,
            "overflow_y": null,
            "overflow_x": null,
            "grid_auto_flow": null,
            "grid_area": null,
            "grid_template_columns": null,
            "flex": null,
            "_model_name": "LayoutModel",
            "justify_items": null,
            "grid_row": null,
            "max_height": null,
            "align_content": null,
            "visibility": null,
            "align_self": null,
            "height": null,
            "min_height": null,
            "padding": null,
            "grid_auto_rows": null,
            "grid_gap": null,
            "max_width": null,
            "order": null,
            "_view_module_version": "1.2.0",
            "grid_template_areas": null,
            "object_position": null,
            "object_fit": null,
            "grid_auto_columns": null,
            "margin": null,
            "display": null,
            "left": null
          }
        },
        "a87b0f0df1664e89977216830a8e39ef": {
          "model_module": "@jupyter-widgets/controls",
          "model_name": "HTMLModel",
          "model_module_version": "1.5.0",
          "state": {
            "_view_name": "HTMLView",
            "style": "IPY_MODEL_e4fa2c86821f48c997dca875bab49319",
            "_dom_classes": [],
            "description": "",
            "_model_name": "HTMLModel",
            "placeholder": "​",
            "_view_module": "@jupyter-widgets/controls",
            "_model_module_version": "1.5.0",
            "value": "",
            "_view_count": null,
            "_view_module_version": "1.5.0",
            "description_tooltip": null,
            "_model_module": "@jupyter-widgets/controls",
            "layout": "IPY_MODEL_f26dbd7c4fbd47c383a1f41f7baa2114"
          }
        },
        "df6b61459d7544e199a0244a545087ea": {
          "model_module": "@jupyter-widgets/controls",
          "model_name": "FloatProgressModel",
          "model_module_version": "1.5.0",
          "state": {
            "_view_name": "ProgressView",
            "style": "IPY_MODEL_20a2a59910524195a1b3b19e110cac23",
            "_dom_classes": [],
            "description": "",
            "_model_name": "FloatProgressModel",
            "bar_style": "info",
            "max": 1,
            "_view_module": "@jupyter-widgets/controls",
            "_model_module_version": "1.5.0",
            "value": 1,
            "_view_count": null,
            "_view_module_version": "1.5.0",
            "orientation": "horizontal",
            "min": 0,
            "description_tooltip": null,
            "_model_module": "@jupyter-widgets/controls",
            "layout": "IPY_MODEL_20c256440adc4b6987207b1ea08dcb0e"
          }
        },
        "d4d95ef0ae574df3ab2c79635ec62782": {
          "model_module": "@jupyter-widgets/controls",
          "model_name": "HTMLModel",
          "model_module_version": "1.5.0",
          "state": {
            "_view_name": "HTMLView",
            "style": "IPY_MODEL_b756189bdd954cadac63933717d92b38",
            "_dom_classes": [],
            "description": "",
            "_model_name": "HTMLModel",
            "placeholder": "​",
            "_view_module": "@jupyter-widgets/controls",
            "_model_module_version": "1.5.0",
            "value": " 23151/0 [00:12&lt;00:00, 1857.31 examples/s]",
            "_view_count": null,
            "_view_module_version": "1.5.0",
            "description_tooltip": null,
            "_model_module": "@jupyter-widgets/controls",
            "layout": "IPY_MODEL_f87754ad423c483bb93472f53efebc50"
          }
        },
        "e4fa2c86821f48c997dca875bab49319": {
          "model_module": "@jupyter-widgets/controls",
          "model_name": "DescriptionStyleModel",
          "model_module_version": "1.5.0",
          "state": {
            "_view_name": "StyleView",
            "_model_name": "DescriptionStyleModel",
            "description_width": "",
            "_view_module": "@jupyter-widgets/base",
            "_model_module_version": "1.5.0",
            "_view_count": null,
            "_view_module_version": "1.2.0",
            "_model_module": "@jupyter-widgets/controls"
          }
        },
        "f26dbd7c4fbd47c383a1f41f7baa2114": {
          "model_module": "@jupyter-widgets/base",
          "model_name": "LayoutModel",
          "model_module_version": "1.2.0",
          "state": {
            "_view_name": "LayoutView",
            "grid_template_rows": null,
            "right": null,
            "justify_content": null,
            "_view_module": "@jupyter-widgets/base",
            "overflow": null,
            "_model_module_version": "1.2.0",
            "_view_count": null,
            "flex_flow": null,
            "width": null,
            "min_width": null,
            "border": null,
            "align_items": null,
            "bottom": null,
            "_model_module": "@jupyter-widgets/base",
            "top": null,
            "grid_column": null,
            "overflow_y": null,
            "overflow_x": null,
            "grid_auto_flow": null,
            "grid_area": null,
            "grid_template_columns": null,
            "flex": null,
            "_model_name": "LayoutModel",
            "justify_items": null,
            "grid_row": null,
            "max_height": null,
            "align_content": null,
            "visibility": null,
            "align_self": null,
            "height": null,
            "min_height": null,
            "padding": null,
            "grid_auto_rows": null,
            "grid_gap": null,
            "max_width": null,
            "order": null,
            "_view_module_version": "1.2.0",
            "grid_template_areas": null,
            "object_position": null,
            "object_fit": null,
            "grid_auto_columns": null,
            "margin": null,
            "display": null,
            "left": null
          }
        },
        "20a2a59910524195a1b3b19e110cac23": {
          "model_module": "@jupyter-widgets/controls",
          "model_name": "ProgressStyleModel",
          "model_module_version": "1.5.0",
          "state": {
            "_view_name": "StyleView",
            "_model_name": "ProgressStyleModel",
            "description_width": "",
            "_view_module": "@jupyter-widgets/base",
            "_model_module_version": "1.5.0",
            "_view_count": null,
            "_view_module_version": "1.2.0",
            "bar_color": null,
            "_model_module": "@jupyter-widgets/controls"
          }
        },
        "20c256440adc4b6987207b1ea08dcb0e": {
          "model_module": "@jupyter-widgets/base",
          "model_name": "LayoutModel",
          "model_module_version": "1.2.0",
          "state": {
            "_view_name": "LayoutView",
            "grid_template_rows": null,
            "right": null,
            "justify_content": null,
            "_view_module": "@jupyter-widgets/base",
            "overflow": null,
            "_model_module_version": "1.2.0",
            "_view_count": null,
            "flex_flow": null,
            "width": "20px",
            "min_width": null,
            "border": null,
            "align_items": null,
            "bottom": null,
            "_model_module": "@jupyter-widgets/base",
            "top": null,
            "grid_column": null,
            "overflow_y": null,
            "overflow_x": null,
            "grid_auto_flow": null,
            "grid_area": null,
            "grid_template_columns": null,
            "flex": null,
            "_model_name": "LayoutModel",
            "justify_items": null,
            "grid_row": null,
            "max_height": null,
            "align_content": null,
            "visibility": null,
            "align_self": null,
            "height": null,
            "min_height": null,
            "padding": null,
            "grid_auto_rows": null,
            "grid_gap": null,
            "max_width": null,
            "order": null,
            "_view_module_version": "1.2.0",
            "grid_template_areas": null,
            "object_position": null,
            "object_fit": null,
            "grid_auto_columns": null,
            "margin": null,
            "display": null,
            "left": null
          }
        },
        "b756189bdd954cadac63933717d92b38": {
          "model_module": "@jupyter-widgets/controls",
          "model_name": "DescriptionStyleModel",
          "model_module_version": "1.5.0",
          "state": {
            "_view_name": "StyleView",
            "_model_name": "DescriptionStyleModel",
            "description_width": "",
            "_view_module": "@jupyter-widgets/base",
            "_model_module_version": "1.5.0",
            "_view_count": null,
            "_view_module_version": "1.2.0",
            "_model_module": "@jupyter-widgets/controls"
          }
        },
        "f87754ad423c483bb93472f53efebc50": {
          "model_module": "@jupyter-widgets/base",
          "model_name": "LayoutModel",
          "model_module_version": "1.2.0",
          "state": {
            "_view_name": "LayoutView",
            "grid_template_rows": null,
            "right": null,
            "justify_content": null,
            "_view_module": "@jupyter-widgets/base",
            "overflow": null,
            "_model_module_version": "1.2.0",
            "_view_count": null,
            "flex_flow": null,
            "width": null,
            "min_width": null,
            "border": null,
            "align_items": null,
            "bottom": null,
            "_model_module": "@jupyter-widgets/base",
            "top": null,
            "grid_column": null,
            "overflow_y": null,
            "overflow_x": null,
            "grid_auto_flow": null,
            "grid_area": null,
            "grid_template_columns": null,
            "flex": null,
            "_model_name": "LayoutModel",
            "justify_items": null,
            "grid_row": null,
            "max_height": null,
            "align_content": null,
            "visibility": null,
            "align_self": null,
            "height": null,
            "min_height": null,
            "padding": null,
            "grid_auto_rows": null,
            "grid_gap": null,
            "max_width": null,
            "order": null,
            "_view_module_version": "1.2.0",
            "grid_template_areas": null,
            "object_position": null,
            "object_fit": null,
            "grid_auto_columns": null,
            "margin": null,
            "display": null,
            "left": null
          }
        },
        "54f3b6e332a44584b1f0d0eb4483d6ee": {
          "model_module": "@jupyter-widgets/controls",
          "model_name": "HBoxModel",
          "model_module_version": "1.5.0",
          "state": {
            "_view_name": "HBoxView",
            "_dom_classes": [],
            "_model_name": "HBoxModel",
            "_view_module": "@jupyter-widgets/controls",
            "_model_module_version": "1.5.0",
            "_view_count": null,
            "_view_module_version": "1.5.0",
            "box_style": "",
            "layout": "IPY_MODEL_7ff393a1a2684af0a0ad039f3ecc364f",
            "_model_module": "@jupyter-widgets/controls",
            "children": [
              "IPY_MODEL_5e16a49374f74dec89130c90dafa5364",
              "IPY_MODEL_7f276db17cda45e8927d28cee9b50a04",
              "IPY_MODEL_6c1a708ec3db4e80872f68975175f7e1"
            ]
          }
        },
        "7ff393a1a2684af0a0ad039f3ecc364f": {
          "model_module": "@jupyter-widgets/base",
          "model_name": "LayoutModel",
          "model_module_version": "1.2.0",
          "state": {
            "_view_name": "LayoutView",
            "grid_template_rows": null,
            "right": null,
            "justify_content": null,
            "_view_module": "@jupyter-widgets/base",
            "overflow": null,
            "_model_module_version": "1.2.0",
            "_view_count": null,
            "flex_flow": null,
            "width": null,
            "min_width": null,
            "border": null,
            "align_items": null,
            "bottom": null,
            "_model_module": "@jupyter-widgets/base",
            "top": null,
            "grid_column": null,
            "overflow_y": null,
            "overflow_x": null,
            "grid_auto_flow": null,
            "grid_area": null,
            "grid_template_columns": null,
            "flex": null,
            "_model_name": "LayoutModel",
            "justify_items": null,
            "grid_row": null,
            "max_height": null,
            "align_content": null,
            "visibility": null,
            "align_self": null,
            "height": null,
            "min_height": null,
            "padding": null,
            "grid_auto_rows": null,
            "grid_gap": null,
            "max_width": null,
            "order": null,
            "_view_module_version": "1.2.0",
            "grid_template_areas": null,
            "object_position": null,
            "object_fit": null,
            "grid_auto_columns": null,
            "margin": null,
            "display": null,
            "left": null
          }
        },
        "5e16a49374f74dec89130c90dafa5364": {
          "model_module": "@jupyter-widgets/controls",
          "model_name": "HTMLModel",
          "model_module_version": "1.5.0",
          "state": {
            "_view_name": "HTMLView",
            "style": "IPY_MODEL_ccea4245870a472aacd7cbe300a440ad",
            "_dom_classes": [],
            "description": "",
            "_model_name": "HTMLModel",
            "placeholder": "​",
            "_view_module": "@jupyter-widgets/controls",
            "_model_module_version": "1.5.0",
            "value": "100%",
            "_view_count": null,
            "_view_module_version": "1.5.0",
            "description_tooltip": null,
            "_model_module": "@jupyter-widgets/controls",
            "layout": "IPY_MODEL_703cd7c8463d4697a553ffc4cfa66561"
          }
        },
        "7f276db17cda45e8927d28cee9b50a04": {
          "model_module": "@jupyter-widgets/controls",
          "model_name": "FloatProgressModel",
          "model_module_version": "1.5.0",
          "state": {
            "_view_name": "ProgressView",
            "style": "IPY_MODEL_e4cb9315968844a0b2a69819dc5ad2ff",
            "_dom_classes": [],
            "description": "",
            "_model_name": "FloatProgressModel",
            "bar_style": "danger",
            "max": 23262,
            "_view_module": "@jupyter-widgets/controls",
            "_model_module_version": "1.5.0",
            "value": 23261,
            "_view_count": null,
            "_view_module_version": "1.5.0",
            "orientation": "horizontal",
            "min": 0,
            "description_tooltip": null,
            "_model_module": "@jupyter-widgets/controls",
            "layout": "IPY_MODEL_1a284bdb7a5f46c197c94e1d6849b50f"
          }
        },
        "6c1a708ec3db4e80872f68975175f7e1": {
          "model_module": "@jupyter-widgets/controls",
          "model_name": "HTMLModel",
          "model_module_version": "1.5.0",
          "state": {
            "_view_name": "HTMLView",
            "style": "IPY_MODEL_a831cc91a54b4311b58bacf1d3d6f6e6",
            "_dom_classes": [],
            "description": "",
            "_model_name": "HTMLModel",
            "placeholder": "​",
            "_view_module": "@jupyter-widgets/controls",
            "_model_module_version": "1.5.0",
            "value": " 23261/23262 [00:02&lt;00:00, 6729.89 examples/s]",
            "_view_count": null,
            "_view_module_version": "1.5.0",
            "description_tooltip": null,
            "_model_module": "@jupyter-widgets/controls",
            "layout": "IPY_MODEL_b7e6fefa36b04cd6b1130915a8cf10e5"
          }
        },
        "ccea4245870a472aacd7cbe300a440ad": {
          "model_module": "@jupyter-widgets/controls",
          "model_name": "DescriptionStyleModel",
          "model_module_version": "1.5.0",
          "state": {
            "_view_name": "StyleView",
            "_model_name": "DescriptionStyleModel",
            "description_width": "",
            "_view_module": "@jupyter-widgets/base",
            "_model_module_version": "1.5.0",
            "_view_count": null,
            "_view_module_version": "1.2.0",
            "_model_module": "@jupyter-widgets/controls"
          }
        },
        "703cd7c8463d4697a553ffc4cfa66561": {
          "model_module": "@jupyter-widgets/base",
          "model_name": "LayoutModel",
          "model_module_version": "1.2.0",
          "state": {
            "_view_name": "LayoutView",
            "grid_template_rows": null,
            "right": null,
            "justify_content": null,
            "_view_module": "@jupyter-widgets/base",
            "overflow": null,
            "_model_module_version": "1.2.0",
            "_view_count": null,
            "flex_flow": null,
            "width": null,
            "min_width": null,
            "border": null,
            "align_items": null,
            "bottom": null,
            "_model_module": "@jupyter-widgets/base",
            "top": null,
            "grid_column": null,
            "overflow_y": null,
            "overflow_x": null,
            "grid_auto_flow": null,
            "grid_area": null,
            "grid_template_columns": null,
            "flex": null,
            "_model_name": "LayoutModel",
            "justify_items": null,
            "grid_row": null,
            "max_height": null,
            "align_content": null,
            "visibility": null,
            "align_self": null,
            "height": null,
            "min_height": null,
            "padding": null,
            "grid_auto_rows": null,
            "grid_gap": null,
            "max_width": null,
            "order": null,
            "_view_module_version": "1.2.0",
            "grid_template_areas": null,
            "object_position": null,
            "object_fit": null,
            "grid_auto_columns": null,
            "margin": null,
            "display": null,
            "left": null
          }
        },
        "e4cb9315968844a0b2a69819dc5ad2ff": {
          "model_module": "@jupyter-widgets/controls",
          "model_name": "ProgressStyleModel",
          "model_module_version": "1.5.0",
          "state": {
            "_view_name": "StyleView",
            "_model_name": "ProgressStyleModel",
            "description_width": "",
            "_view_module": "@jupyter-widgets/base",
            "_model_module_version": "1.5.0",
            "_view_count": null,
            "_view_module_version": "1.2.0",
            "bar_color": null,
            "_model_module": "@jupyter-widgets/controls"
          }
        },
        "1a284bdb7a5f46c197c94e1d6849b50f": {
          "model_module": "@jupyter-widgets/base",
          "model_name": "LayoutModel",
          "model_module_version": "1.2.0",
          "state": {
            "_view_name": "LayoutView",
            "grid_template_rows": null,
            "right": null,
            "justify_content": null,
            "_view_module": "@jupyter-widgets/base",
            "overflow": null,
            "_model_module_version": "1.2.0",
            "_view_count": null,
            "flex_flow": null,
            "width": null,
            "min_width": null,
            "border": null,
            "align_items": null,
            "bottom": null,
            "_model_module": "@jupyter-widgets/base",
            "top": null,
            "grid_column": null,
            "overflow_y": null,
            "overflow_x": null,
            "grid_auto_flow": null,
            "grid_area": null,
            "grid_template_columns": null,
            "flex": null,
            "_model_name": "LayoutModel",
            "justify_items": null,
            "grid_row": null,
            "max_height": null,
            "align_content": null,
            "visibility": null,
            "align_self": null,
            "height": null,
            "min_height": null,
            "padding": null,
            "grid_auto_rows": null,
            "grid_gap": null,
            "max_width": null,
            "order": null,
            "_view_module_version": "1.2.0",
            "grid_template_areas": null,
            "object_position": null,
            "object_fit": null,
            "grid_auto_columns": null,
            "margin": null,
            "display": null,
            "left": null
          }
        },
        "a831cc91a54b4311b58bacf1d3d6f6e6": {
          "model_module": "@jupyter-widgets/controls",
          "model_name": "DescriptionStyleModel",
          "model_module_version": "1.5.0",
          "state": {
            "_view_name": "StyleView",
            "_model_name": "DescriptionStyleModel",
            "description_width": "",
            "_view_module": "@jupyter-widgets/base",
            "_model_module_version": "1.5.0",
            "_view_count": null,
            "_view_module_version": "1.2.0",
            "_model_module": "@jupyter-widgets/controls"
          }
        },
        "b7e6fefa36b04cd6b1130915a8cf10e5": {
          "model_module": "@jupyter-widgets/base",
          "model_name": "LayoutModel",
          "model_module_version": "1.2.0",
          "state": {
            "_view_name": "LayoutView",
            "grid_template_rows": null,
            "right": null,
            "justify_content": null,
            "_view_module": "@jupyter-widgets/base",
            "overflow": null,
            "_model_module_version": "1.2.0",
            "_view_count": null,
            "flex_flow": null,
            "width": null,
            "min_width": null,
            "border": null,
            "align_items": null,
            "bottom": null,
            "_model_module": "@jupyter-widgets/base",
            "top": null,
            "grid_column": null,
            "overflow_y": null,
            "overflow_x": null,
            "grid_auto_flow": null,
            "grid_area": null,
            "grid_template_columns": null,
            "flex": null,
            "_model_name": "LayoutModel",
            "justify_items": null,
            "grid_row": null,
            "max_height": null,
            "align_content": null,
            "visibility": null,
            "align_self": null,
            "height": null,
            "min_height": null,
            "padding": null,
            "grid_auto_rows": null,
            "grid_gap": null,
            "max_width": null,
            "order": null,
            "_view_module_version": "1.2.0",
            "grid_template_areas": null,
            "object_position": null,
            "object_fit": null,
            "grid_auto_columns": null,
            "margin": null,
            "display": null,
            "left": null
          }
        }
      }
    }
  },
  "cells": [
    {
      "cell_type": "markdown",
      "metadata": {
        "id": "view-in-github",
        "colab_type": "text"
      },
      "source": [
        "<a href=\"https://colab.research.google.com/github/mir7942/CDE2021_TransferLearning/blob/main/transfer_learning.ipynb\" target=\"_parent\"><img src=\"https://colab.research.google.com/assets/colab-badge.svg\" alt=\"Open In Colab\"/></a>"
      ]
    },
    {
      "cell_type": "markdown",
      "metadata": {
        "id": "z7wgnaznFo2b"
      },
      "source": [
        "# 튜토리얼: 전이학습을 이용한 이미지 분류\n",
        "\n",
        "이번 실습에서는 전이학습(transfer learning)을 이용해 이미지를 분류해 보겠습니다.\n",
        "\n",
        "**이번 실습에서는 GPU를 이용합니다. 이를 위해서는 메뉴의 [런타임]-[런타임 유형 변경]에서 '하드웨어 가속기'를 'GPU'로 선택해야 합니다.**\n",
        "\n",
        "실습에 사용할 이미지셋은 Kaggle의 [Dogs vs. Cats](https://www.kaggle.com/c/dogs-vs-cats/data) 입니다. 분류 목적은 이미지가 주어졌을 때, 해당 이미지가 개(dog=1)인지 고양이(cat=0)인지 구분하는 것입니다. 이는 전형적인 이진 분류(binary classification) 문제입니다."
      ]
    },
    {
      "cell_type": "markdown",
      "metadata": {
        "id": "041yVRY6JaUT"
      },
      "source": [
        "우선 필요한 모듈을 불러옵니다."
      ]
    },
    {
      "cell_type": "code",
      "metadata": {
        "id": "tFyuEtz0JdsZ"
      },
      "source": [
        "import numpy as np\n",
        "import tensorflow as tf\n",
        "import tensorflow_datasets as tfds\n",
        "import matplotlib.pyplot as plt"
      ],
      "execution_count": null,
      "outputs": []
    },
    {
      "cell_type": "markdown",
      "metadata": {
        "id": "VXSLauS-S4Dn"
      },
      "source": [
        "## 데이터셋 준비\n",
        "Dogs vs. Cats 데이터셋을 불러오기 위해 Tensorflow Datasets를 이용합니다. 이 데이터셋에는 train 이미지만 들어있기 때문에, 이를 60:20:20의 비율로 학습셋, 검증셋, 테스트셋으로 분할합니다."
      ]
    },
    {
      "cell_type": "code",
      "metadata": {
        "id": "iFavFIHtKdgG",
        "colab": {
          "base_uri": "https://localhost:8080/",
          "height": 221,
          "referenced_widgets": [
            "288f321615ae42a78176bb80dd1b6e46",
            "b73eacc455b348ca856484569f315b69",
            "bac5ecd8b9ec4066822c2016ade85a91",
            "f89db200223f4ef29bd3114edc260a68",
            "f79e2fc29d204a4a9380ad4a47cd0acf",
            "1e406d1944174d5a9c29897d6c706aaf",
            "7a6baa204ab344c0ae0641afb8cdd9c8",
            "75f8353788cf4bd4b6f6de2453d4690a",
            "1fddd58700384ca5856c3a71a4f12c77",
            "eadd09de6f5c42bbbf7fdb14de2c654d",
            "9ce221ef6c2f4b209201f5455ec5bbd6",
            "2c7ab7ea82164c3eb148a1ea0bbf2bf0",
            "864a8f4ab1304578a1730c9fefaebd5b",
            "771170397d0441b7b31d919b02de3aa5",
            "4ae81550bf674617a804365b6a8adf07",
            "d7989cf1817a42298744cd12b83a9a9e",
            "5b982d6bbd0d4d1f9a0674f0013d327f",
            "67d058a39553420681c884e546b3325c",
            "228697396b4f4d748430af4d837ea878",
            "51b7b955b49745869bc91c0e35f08798",
            "4ad12bc20dc44ca483fac2cc24654122",
            "ba8c6b7aa7244f5b8064162b77347015",
            "4af3d9ac558042738a2f29443da807c3",
            "e152bcfdb00044628112cc33d72877d3",
            "a87b0f0df1664e89977216830a8e39ef",
            "df6b61459d7544e199a0244a545087ea",
            "d4d95ef0ae574df3ab2c79635ec62782",
            "e4fa2c86821f48c997dca875bab49319",
            "f26dbd7c4fbd47c383a1f41f7baa2114",
            "20a2a59910524195a1b3b19e110cac23",
            "20c256440adc4b6987207b1ea08dcb0e",
            "b756189bdd954cadac63933717d92b38",
            "f87754ad423c483bb93472f53efebc50",
            "54f3b6e332a44584b1f0d0eb4483d6ee",
            "7ff393a1a2684af0a0ad039f3ecc364f",
            "5e16a49374f74dec89130c90dafa5364",
            "7f276db17cda45e8927d28cee9b50a04",
            "6c1a708ec3db4e80872f68975175f7e1",
            "ccea4245870a472aacd7cbe300a440ad",
            "703cd7c8463d4697a553ffc4cfa66561",
            "e4cb9315968844a0b2a69819dc5ad2ff",
            "1a284bdb7a5f46c197c94e1d6849b50f",
            "a831cc91a54b4311b58bacf1d3d6f6e6",
            "b7e6fefa36b04cd6b1130915a8cf10e5"
          ]
        },
        "outputId": "f1ee15ba-3412-43b4-91bb-0929507e9552"
      },
      "source": [
        "original_train_set, original_validation_set, original_test_set = tfds.load('cats_vs_dogs', split=['train[:60%]', 'train[60%:80%]', 'train[80%:]'], as_supervised=True)\n",
        "CLASSES = ['CAT', 'DOG']  # 레이블을 나타내는 문자열"
      ],
      "execution_count": null,
      "outputs": [
        {
          "output_type": "stream",
          "text": [
            "\u001b[1mDownloading and preparing dataset cats_vs_dogs/4.0.0 (download: 786.68 MiB, generated: Unknown size, total: 786.68 MiB) to /root/tensorflow_datasets/cats_vs_dogs/4.0.0...\u001b[0m\n"
          ],
          "name": "stdout"
        },
        {
          "output_type": "display_data",
          "data": {
            "application/vnd.jupyter.widget-view+json": {
              "model_id": "288f321615ae42a78176bb80dd1b6e46",
              "version_minor": 0,
              "version_major": 2
            },
            "text/plain": [
              "Dl Completed...: 0 url [00:00, ? url/s]"
            ]
          },
          "metadata": {}
        },
        {
          "output_type": "display_data",
          "data": {
            "application/vnd.jupyter.widget-view+json": {
              "model_id": "2c7ab7ea82164c3eb148a1ea0bbf2bf0",
              "version_minor": 0,
              "version_major": 2
            },
            "text/plain": [
              "Dl Size...: 0 MiB [00:00, ? MiB/s]"
            ]
          },
          "metadata": {}
        },
        {
          "output_type": "stream",
          "text": [
            "\n",
            "\n"
          ],
          "name": "stdout"
        },
        {
          "output_type": "display_data",
          "data": {
            "application/vnd.jupyter.widget-view+json": {
              "model_id": "4af3d9ac558042738a2f29443da807c3",
              "version_minor": 0,
              "version_major": 2
            },
            "text/plain": [
              "0 examples [00:00, ? examples/s]"
            ]
          },
          "metadata": {}
        },
        {
          "output_type": "stream",
          "text": [
            "WARNING:absl:1738 images were corrupted and were skipped\n"
          ],
          "name": "stderr"
        },
        {
          "output_type": "stream",
          "text": [
            "Shuffling and writing examples to /root/tensorflow_datasets/cats_vs_dogs/4.0.0.incomplete0M9DOE/cats_vs_dogs-train.tfrecord\n"
          ],
          "name": "stdout"
        },
        {
          "output_type": "display_data",
          "data": {
            "application/vnd.jupyter.widget-view+json": {
              "model_id": "54f3b6e332a44584b1f0d0eb4483d6ee",
              "version_minor": 0,
              "version_major": 2
            },
            "text/plain": [
              "  0%|          | 0/23262 [00:00<?, ? examples/s]"
            ]
          },
          "metadata": {}
        },
        {
          "output_type": "stream",
          "text": [
            "\u001b[1mDataset cats_vs_dogs downloaded and prepared to /root/tensorflow_datasets/cats_vs_dogs/4.0.0. Subsequent calls will reuse this data.\u001b[0m\n"
          ],
          "name": "stdout"
        }
      ]
    },
    {
      "cell_type": "markdown",
      "metadata": {
        "id": "6U7bebsBLVm_"
      },
      "source": [
        "불러온 데이터셋의 정보를 확인합니다. 출력된 이미지를 보면, 각각의 이미지가 다른 크기를 갖고 있는 것을 확인할 수 있습니다."
      ]
    },
    {
      "cell_type": "code",
      "metadata": {
        "colab": {
          "base_uri": "https://localhost:8080/",
          "height": 599
        },
        "id": "kSpFEbkELZAg",
        "outputId": "51d1cce1-00d7-45b0-b400-62cc1bf950f7"
      },
      "source": [
        "count_train_set = tf.data.experimental.cardinality(original_train_set).numpy() # 데이터셋의 개수\n",
        "count_validation_set = tf.data.experimental.cardinality(original_validation_set).numpy() # 데이터셋의 개수\n",
        "count_test_set = tf.data.experimental.cardinality(original_test_set).numpy() # 데이터셋의 개수\n",
        "\n",
        "print(\"Train set:\", count_train_set)\n",
        "print(\"Validation set:\", count_validation_set)\n",
        "print(\"Test set:\", count_test_set)\n",
        "\n",
        "for (image, label) in original_train_set.take(2):  # 데이터셋에서 2개의 데이터를 가져온다.\n",
        "  plt.figure()\n",
        "  plt.imshow(image)\n",
        "  plt.title('label=' + CLASSES[label.numpy()])"
      ],
      "execution_count": null,
      "outputs": [
        {
          "output_type": "stream",
          "text": [
            "Train set: 13957\n",
            "Validation set: 4653\n",
            "Test set: 4652\n"
          ],
          "name": "stdout"
        },
        {
          "output_type": "display_data",
          "data": {
            "image/png": "[encoded data removed]",
            "text/plain": [
              "<Figure size 432x288 with 1 Axes>"
            ]
          },
          "metadata": {
            "needs_background": "light"
          }
        },
        {
          "output_type": "display_data",
          "data": {
            "image/png": "[encoded data removed]",
            "text/plain": [
              "<Figure size 432x288 with 1 Axes>"
            ]
          },
          "metadata": {
            "needs_background": "light"
          }
        }
      ]
    },
    {
      "cell_type": "markdown",
      "metadata": {
        "id": "pUif5fXtOc8M"
      },
      "source": [
        "학습에 사용할 수 있게 데이터셋을 준비합니다.\n",
        "1.   Dogs vs. Cats의 픽셀 타입은 int이므로 이를 float으로 변경합니다.\n",
        "2.   Dogs vs. Cats 픽셀값의 범위는 [0, 255] 이므로, 각 픽셀값을 [-1, 1]이 되도록 정규화합니다.\n",
        "3.   모든 이미지 크기를 동일하게 조정합니다. 여기서는 (150, 150)으로 통일합니다."
      ]
    },
    {
      "cell_type": "code",
      "metadata": {
        "id": "-loas5ZoL6pM"
      },
      "source": [
        "IMAGE_SIZE = 150\n",
        "\n",
        "def format_image(image, label):\n",
        "  image = tf.cast(image, tf.float32) # 이미지 픽셀 타입을 float으로 변경\n",
        "  image = (image/127.5) - 1 # 이미지 픽셀값의 범위를 -1~1로 조정\n",
        "  image = tf.image.resize(image, (IMAGE_SIZE, IMAGE_SIZE)) # 이미지 크기를 조정\n",
        "  return image, label\n",
        "\n",
        "train_set = original_train_set.map(format_image) # 데이터셋에 format_image() 함수 적용\n",
        "validation_set = original_validation_set.map(format_image) # 데이터셋에 format_image() 함수 적용\n",
        "test_set = original_test_set.map(format_image) # 데이터셋에 format_image() 함수 적용"
      ],
      "execution_count": null,
      "outputs": []
    },
    {
      "cell_type": "markdown",
      "metadata": {
        "id": "85G_pimh76mT"
      },
      "source": [
        "변경된 이미지의 크기를 확인해 봅니다."
      ]
    },
    {
      "cell_type": "code",
      "metadata": {
        "colab": {
          "base_uri": "https://localhost:8080/"
        },
        "id": "voW5mbgXRgpw",
        "outputId": "55871f18-e954-42bd-b189-a32bea6539ea"
      },
      "source": [
        "for (image, label) in train_set.take(2):\n",
        "  print(image.numpy().shape)"
      ],
      "execution_count": null,
      "outputs": [
        {
          "output_type": "stream",
          "text": [
            "(150, 150, 3)\n",
            "(150, 150, 3)\n"
          ],
          "name": "stdout"
        }
      ]
    },
    {
      "cell_type": "markdown",
      "metadata": {
        "id": "7RhlRrsVSdxv"
      },
      "source": [
        "학습을 위해 데이터셋을 배치 단위로 나누고 섞습니다."
      ]
    },
    {
      "cell_type": "code",
      "metadata": {
        "id": "fIxl4S98R8bX"
      },
      "source": [
        "BATCH_SIZE = 32 # 미니배치 크기\n",
        "SHUFFLE_BUFFER_SIZE = 1000 # 섞을 때 사용할 버퍼 크기\n",
        "\n",
        "train_batches = train_set.cache().shuffle(SHUFFLE_BUFFER_SIZE).batch(BATCH_SIZE).prefetch(buffer_size=tf.data.experimental.AUTOTUNE) # 이미지를 섞고, 배치 단위로 나눈다.\n",
        "validation_batches = validation_set.cache().batch(BATCH_SIZE).prefetch(buffer_size=tf.data.experimental.AUTOTUNE) # 이미지를 배치 단위로 나눈다.\n",
        "test_batches = test_set.cache().batch(BATCH_SIZE).prefetch(buffer_size=tf.data.experimental.AUTOTUNE) # 이미지를 배치 단위로 나눈다."
      ],
      "execution_count": null,
      "outputs": []
    },
    {
      "cell_type": "markdown",
      "metadata": {
        "id": "TVCC_3xBTqER"
      },
      "source": [
        "## 모델 변경(전략 2): 분류 계층만 재학습\n",
        "우선 모델의 분류 계층만 재학습하는 것을 실습해 보겠습니다.\n",
        "\n",
        "### 모델 불러오기\n",
        "이번 실습에서는 사전학습된 VGG16 모델을 불러와 사용하도록 하겠습니다. 그러나 어떤 모델을 사용하던 과정은 동일합니다. Tensorflow에서 지원하는 사전학습 모델은 [여기](https://www.tensorflow.org/api_docs/python/tf/keras/applications?hl=ko)에서 확인할 수 있습니다."
      ]
    },
    {
      "cell_type": "code",
      "metadata": {
        "id": "xfRxq1AgUKMC",
        "colab": {
          "base_uri": "https://localhost:8080/"
        },
        "outputId": "c3579ad2-b2da-4844-d4f4-5e1cb81091e5"
      },
      "source": [
        "IMAGE_SHAPE = (IMAGE_SIZE, IMAGE_SIZE, 3)\n",
        "\n",
        "# 모델을 불러온다.\n",
        "base_model2 = tf.keras.applications.VGG16(\n",
        "    weights=\"imagenet\",  # ImageNet에 대해 학습한 가중치를 불러온다.\n",
        "    input_shape=IMAGE_SHAPE, # 입력 노드의 모양\n",
        "    include_top=False, # 최상위 노드(classification 레이어)를 포함하지 않는다.\n",
        ")  "
      ],
      "execution_count": null,
      "outputs": [
        {
          "output_type": "stream",
          "text": [
            "Downloading data from https://storage.googleapis.com/tensorflow/keras-applications/vgg16/vgg16_weights_tf_dim_ordering_tf_kernels_notop.h5\n",
            "58892288/58889256 [==============================] - 1s 0us/step\n",
            "58900480/58889256 [==============================] - 1s 0us/step\n"
          ],
          "name": "stdout"
        }
      ]
    },
    {
      "cell_type": "markdown",
      "metadata": {
        "id": "3fQwSDv8V8O_"
      },
      "source": [
        "불러온 모델 정보를 확인합니다. 입력 레이어(input_1)의 크기가 (150, 150, 3)인 것을 확인할 수 있고, 가장 마지막 레이어(block5_pool)가 MaxPooling2D인 것을 확인할 수 있습니다."
      ]
    },
    {
      "cell_type": "code",
      "metadata": {
        "id": "mkKnWCgCVrmr",
        "colab": {
          "base_uri": "https://localhost:8080/"
        },
        "outputId": "ecac6b42-f4fd-423e-b01c-9e4d878bb6e7"
      },
      "source": [
        "base_model2.summary()"
      ],
      "execution_count": null,
      "outputs": [
        {
          "output_type": "stream",
          "text": [
            "Model: \"vgg16\"\n",
            "_________________________________________________________________\n",
            "Layer (type)                 Output Shape              Param #   \n",
            "=================================================================\n",
            "input_1 (InputLayer)         [(None, 150, 150, 3)]     0         \n",
            "_________________________________________________________________\n",
            "block1_conv1 (Conv2D)        (None, 150, 150, 64)      1792      \n",
            "_________________________________________________________________\n",
            "block1_conv2 (Conv2D)        (None, 150, 150, 64)      36928     \n",
            "_________________________________________________________________\n",
            "block1_pool (MaxPooling2D)   (None, 75, 75, 64)        0         \n",
            "_________________________________________________________________\n",
            "block2_conv1 (Conv2D)        (None, 75, 75, 128)       73856     \n",
            "_________________________________________________________________\n",
            "block2_conv2 (Conv2D)        (None, 75, 75, 128)       147584    \n",
            "_________________________________________________________________\n",
            "block2_pool (MaxPooling2D)   (None, 37, 37, 128)       0         \n",
            "_________________________________________________________________\n",
            "block3_conv1 (Conv2D)        (None, 37, 37, 256)       295168    \n",
            "_________________________________________________________________\n",
            "block3_conv2 (Conv2D)        (None, 37, 37, 256)       590080    \n",
            "_________________________________________________________________\n",
            "block3_conv3 (Conv2D)        (None, 37, 37, 256)       590080    \n",
            "_________________________________________________________________\n",
            "block3_pool (MaxPooling2D)   (None, 18, 18, 256)       0         \n",
            "_________________________________________________________________\n",
            "block4_conv1 (Conv2D)        (None, 18, 18, 512)       1180160   \n",
            "_________________________________________________________________\n",
            "block4_conv2 (Conv2D)        (None, 18, 18, 512)       2359808   \n",
            "_________________________________________________________________\n",
            "block4_conv3 (Conv2D)        (None, 18, 18, 512)       2359808   \n",
            "_________________________________________________________________\n",
            "block4_pool (MaxPooling2D)   (None, 9, 9, 512)         0         \n",
            "_________________________________________________________________\n",
            "block5_conv1 (Conv2D)        (None, 9, 9, 512)         2359808   \n",
            "_________________________________________________________________\n",
            "block5_conv2 (Conv2D)        (None, 9, 9, 512)         2359808   \n",
            "_________________________________________________________________\n",
            "block5_conv3 (Conv2D)        (None, 9, 9, 512)         2359808   \n",
            "_________________________________________________________________\n",
            "block5_pool (MaxPooling2D)   (None, 4, 4, 512)         0         \n",
            "=================================================================\n",
            "Total params: 14,714,688\n",
            "Trainable params: 14,714,688\n",
            "Non-trainable params: 0\n",
            "_________________________________________________________________\n"
          ],
          "name": "stdout"
        }
      ]
    },
    {
      "cell_type": "markdown",
      "metadata": {
        "id": "AVIsNa1X86CT"
      },
      "source": [
        "### 모델 변경\n",
        "새로 학습할 데이터셋에 맞게 입력층과 분류기를 추가합니다.\n",
        "\n",
        "이번 실습에서는 분류기로 GAP(global averge pooling) 레이어를 사용합니다. 그리고 이진 분류를 위해 sigmoid 활성화 함수를 사용합니다."
      ]
    },
    {
      "cell_type": "code",
      "metadata": {
        "id": "_2ToneO7WAEO"
      },
      "source": [
        "inputs = tf.keras.Input(shape=IMAGE_SHAPE) # 입력층\n",
        "x = base_model2(inputs, training=False) # training=False는 학습이 아닌 추정 모드로 작동하도록 한다.\n",
        "x = tf.keras.layers.GlobalAveragePooling2D()(x) # Classification을 위한 레이어. 여기서는 GAP를 사용한다.\n",
        "outputs = tf.keras.layers.Dense(1, activation='sigmoid')(x) # 이진 분류를 위한 출력층\n",
        "\n",
        "model2 = tf.keras.Model(inputs, outputs)"
      ],
      "execution_count": null,
      "outputs": []
    },
    {
      "cell_type": "markdown",
      "metadata": {
        "id": "khiK4iOaCj-j"
      },
      "source": [
        "이번 실습에서는 새로 추가한 분류기 부분만 재학습 합니다. 따라서 사전학습된 부분은 학습이 되지 않도록 합니다. 이는 모델의 trainable 변수값을 False로 설정하면 가능합니다.\n",
        "\n",
        "변경된 모델을 보면, \"Trainable params\"가 513개로 매주 적어진 것을 확인할 수 있습니다."
      ]
    },
    {
      "cell_type": "code",
      "metadata": {
        "id": "mDeps-69_u8k",
        "colab": {
          "base_uri": "https://localhost:8080/"
        },
        "outputId": "4f105ee6-0505-452e-8358-1debbcb66a02"
      },
      "source": [
        "base_model2.trainable = False # 학습 시, 가중치가 변경되지 않도록 동결(freeze)한다.\n",
        "model2.summary()"
      ],
      "execution_count": null,
      "outputs": [
        {
          "output_type": "stream",
          "text": [
            "Model: \"model\"\n",
            "_________________________________________________________________\n",
            "Layer (type)                 Output Shape              Param #   \n",
            "=================================================================\n",
            "input_2 (InputLayer)         [(None, 150, 150, 3)]     0         \n",
            "_________________________________________________________________\n",
            "vgg16 (Functional)           (None, 4, 4, 512)         14714688  \n",
            "_________________________________________________________________\n",
            "global_average_pooling2d (Gl (None, 512)               0         \n",
            "_________________________________________________________________\n",
            "dense (Dense)                (None, 1)                 513       \n",
            "=================================================================\n",
            "Total params: 14,715,201\n",
            "Trainable params: 513\n",
            "Non-trainable params: 14,714,688\n",
            "_________________________________________________________________\n"
          ],
          "name": "stdout"
        }
      ]
    },
    {
      "cell_type": "markdown",
      "metadata": {
        "id": "lXRtmNBVDLv_"
      },
      "source": [
        "### 학습 및 평가\n",
        "학습을 시작합니다. 재학습을 할 때는 많이 할 필요가 업습니다. 여기서는 5번만 반복합니다."
      ]
    },
    {
      "cell_type": "code",
      "metadata": {
        "id": "ZfrOx7iw-yqe",
        "colab": {
          "base_uri": "https://localhost:8080/"
        },
        "outputId": "abb2eab9-824c-491c-be0e-ecd02467f4de"
      },
      "source": [
        "EPOCHS = 5\n",
        "LEARNING_RATE = 0.001\n",
        "\n",
        "model2.compile(optimizer=tf.keras.optimizers.Adam(learning_rate=LEARNING_RATE),\n",
        "              loss=tf.keras.losses.BinaryCrossentropy(),\n",
        "              metrics=[tf.keras.metrics.BinaryAccuracy()])\n",
        "\n",
        "model2.fit(train_batches, epochs=EPOCHS, validation_data=validation_batches)"
      ],
      "execution_count": null,
      "outputs": [
        {
          "output_type": "stream",
          "text": [
            "Epoch 1/5\n",
            "437/437 [==============================] - 80s 103ms/step - loss: 0.3589 - binary_accuracy: 0.8804 - val_loss: 0.2595 - val_binary_accuracy: 0.9117\n",
            "Epoch 2/5\n",
            "437/437 [==============================] - 39s 90ms/step - loss: 0.2309 - binary_accuracy: 0.9162 - val_loss: 0.2145 - val_binary_accuracy: 0.9233\n",
            "Epoch 3/5\n",
            "437/437 [==============================] - 40s 92ms/step - loss: 0.2010 - binary_accuracy: 0.9231 - val_loss: 0.1942 - val_binary_accuracy: 0.9231\n",
            "Epoch 4/5\n",
            "437/437 [==============================] - 40s 91ms/step - loss: 0.1855 - binary_accuracy: 0.9286 - val_loss: 0.1820 - val_binary_accuracy: 0.9274\n",
            "Epoch 5/5\n",
            "437/437 [==============================] - 40s 92ms/step - loss: 0.1759 - binary_accuracy: 0.9291 - val_loss: 0.1747 - val_binary_accuracy: 0.9302\n"
          ],
          "name": "stdout"
        },
        {
          "output_type": "execute_result",
          "data": {
            "text/plain": [
              "<keras.callbacks.History at 0x7f3f7cd8c450>"
            ]
          },
          "metadata": {},
          "execution_count": 11
        }
      ]
    },
    {
      "cell_type": "markdown",
      "metadata": {
        "id": "0wlDGpchENmv"
      },
      "source": [
        "테스트셋을 이용해 학습한 모델을 평가합니다."
      ]
    },
    {
      "cell_type": "code",
      "metadata": {
        "id": "F2_Z88WqDy_h",
        "colab": {
          "base_uri": "https://localhost:8080/"
        },
        "outputId": "700a5b20-a9f6-4208-df80-82bb93e64e0c"
      },
      "source": [
        "score = model2.evaluate(test_batches)\n",
        "    \n",
        "print(\"Test loss:\", score[0])\n",
        "print(\"Test accuracy:\", score[1])"
      ],
      "execution_count": null,
      "outputs": [
        {
          "output_type": "stream",
          "text": [
            "146/146 [==============================] - 13s 85ms/step - loss: 0.1673 - binary_accuracy: 0.9340\n",
            "Test loss: 0.1672765016555786\n",
            "Test accuracy: 0.9340068697929382\n"
          ],
          "name": "stdout"
        }
      ]
    },
    {
      "cell_type": "markdown",
      "metadata": {
        "id": "Yf6p1bM2EqK6"
      },
      "source": [
        "### 미세조정\n",
        "재학습한 모델을 미세조정하여 정확도를 높일 수 있습니다. 이 때는, learning rate를 좀 더 낮추고, 전체 모델을 학습합니다."
      ]
    },
    {
      "cell_type": "code",
      "metadata": {
        "id": "p6j_njxZE-RF",
        "colab": {
          "base_uri": "https://localhost:8080/"
        },
        "outputId": "689b4e2c-58d4-4a94-976a-77ebaddc12fc"
      },
      "source": [
        "base_model2.trainable = True # 전체 모델을 학습합니다.\n",
        "model2.summary() # 학습 파라미터의 수가 증가한 것을 확인할 수 있습니다.\n",
        "\n",
        "EPOCHS_TUNING = 5\n",
        "LEARNING_RATE_TUNING = 0.00001 # 처음 학습할 때보다 작게 합니다.\n",
        "\n",
        "model2.compile(optimizer=tf.keras.optimizers.Adam(learning_rate=LEARNING_RATE_TUNING),\n",
        "              loss=tf.keras.losses.BinaryCrossentropy(),\n",
        "              metrics=[tf.keras.metrics.BinaryAccuracy()])\n",
        "\n",
        "model2.fit(train_batches, epochs=EPOCHS_TUNING, validation_data=validation_batches)\n",
        "\n",
        "score_tuning = model2.evaluate(test_batches)\n",
        "    \n",
        "print(\"Test loss:\", score_tuning[0])\n",
        "print(\"Test accuracy:\", score_tuning[1])"
      ],
      "execution_count": null,
      "outputs": [
        {
          "output_type": "stream",
          "text": [
            "Model: \"model\"\n",
            "_________________________________________________________________\n",
            "Layer (type)                 Output Shape              Param #   \n",
            "=================================================================\n",
            "input_2 (InputLayer)         [(None, 150, 150, 3)]     0         \n",
            "_________________________________________________________________\n",
            "vgg16 (Functional)           (None, 4, 4, 512)         14714688  \n",
            "_________________________________________________________________\n",
            "global_average_pooling2d (Gl (None, 512)               0         \n",
            "_________________________________________________________________\n",
            "dense (Dense)                (None, 1)                 513       \n",
            "=================================================================\n",
            "Total params: 14,715,201\n",
            "Trainable params: 14,715,201\n",
            "Non-trainable params: 0\n",
            "_________________________________________________________________\n",
            "Epoch 1/5\n",
            "437/437 [==============================] - 108s 236ms/step - loss: 0.0944 - binary_accuracy: 0.9625 - val_loss: 0.0660 - val_binary_accuracy: 0.9759\n",
            "Epoch 2/5\n",
            "437/437 [==============================] - 102s 233ms/step - loss: 0.0389 - binary_accuracy: 0.9869 - val_loss: 0.0783 - val_binary_accuracy: 0.9742\n",
            "Epoch 3/5\n",
            "437/437 [==============================] - 101s 232ms/step - loss: 0.0230 - binary_accuracy: 0.9920 - val_loss: 0.0649 - val_binary_accuracy: 0.9766\n",
            "Epoch 4/5\n",
            "437/437 [==============================] - 101s 231ms/step - loss: 0.0106 - binary_accuracy: 0.9972 - val_loss: 0.0747 - val_binary_accuracy: 0.9779\n",
            "Epoch 5/5\n",
            "437/437 [==============================] - 101s 231ms/step - loss: 0.0051 - binary_accuracy: 0.9988 - val_loss: 0.0765 - val_binary_accuracy: 0.9787\n",
            "146/146 [==============================] - 10s 68ms/step - loss: 0.0679 - binary_accuracy: 0.9787\n",
            "Test loss: 0.06794551014900208\n",
            "Test accuracy: 0.9787188172340393\n"
          ],
          "name": "stdout"
        }
      ]
    },
    {
      "cell_type": "markdown",
      "metadata": {
        "id": "ME5CDh9yF5q2"
      },
      "source": [
        "## 모델 변경(전략 3): 컨볼루션 레이어 일부와 분류 계층 재학습\n",
        "이번에는 VGG16의 컨볼루션 레이어 일부까지 재학습 해보도록 하겠습니다. 여기서 재학습할 레이어는 block5_conv3 으로 하겠습니다.\n",
        "\n",
        "### 모델 불러오기\n",
        "우선 VGG16 모델을 다시 불러옵니다."
      ]
    },
    {
      "cell_type": "code",
      "metadata": {
        "id": "IIOLGCDDGmAQ"
      },
      "source": [
        "IMAGE_SHAPE = (IMAGE_SIZE, IMAGE_SIZE, 3)\n",
        "\n",
        "# 모델을 불러온다.\n",
        "base_model3 = tf.keras.applications.VGG16(\n",
        "    weights=\"imagenet\",  # ImageNet에 대해 학습한 가중치를 불러온다.\n",
        "    input_shape=IMAGE_SHAPE, # 입력 노드의 모양\n",
        "    include_top=False, # 최상위 노드(classification 레이어)를 포함하지 않는다.\n",
        ")  "
      ],
      "execution_count": null,
      "outputs": []
    },
    {
      "cell_type": "markdown",
      "metadata": {
        "id": "ibU_74obIOrs"
      },
      "source": [
        "### 모델 변경\n",
        "새로 학습할 데이터셋에 맞게 입력층과 분류기를 추가합니다."
      ]
    },
    {
      "cell_type": "code",
      "metadata": {
        "id": "hYoPBsDbIUYV"
      },
      "source": [
        "inputs = tf.keras.Input(shape=IMAGE_SHAPE) # 입력층\n",
        "x = base_model3(inputs, training=False) # training=False는 학습이 아닌 추정 모드로 작동하도록 한다.\n",
        "x = tf.keras.layers.GlobalAveragePooling2D()(x) # Classification을 위한 레이어. 여기서는 GAP를 사용한다.\n",
        "outputs = tf.keras.layers.Dense(1, activation='sigmoid')(x) # 이진 분류를 위한 출력층\n",
        "\n",
        "model3 = tf.keras.Model(inputs, outputs)"
      ],
      "execution_count": null,
      "outputs": []
    },
    {
      "cell_type": "markdown",
      "metadata": {
        "id": "rLW2vtxgIbwy"
      },
      "source": [
        "모델의 일부 레이어(block5_conv3)만 학습되도록 변경합니다."
      ]
    },
    {
      "cell_type": "code",
      "metadata": {
        "colab": {
          "base_uri": "https://localhost:8080/"
        },
        "id": "0nnXKl9hIcI1",
        "outputId": "5bcb4db7-ed73-4614-8515-df8cc1c37764"
      },
      "source": [
        "base_model3.trainable = True\n",
        "trainable_layer_names = ['block5_conv3']\n",
        "\n",
        "for layer in base_model3.layers:\n",
        "  if layer.name in trainable_layer_names:\n",
        "    layer.trainable = True\n",
        "  else:\n",
        "    layer.trainable = False\n",
        "\n",
        "model3.summary()"
      ],
      "execution_count": null,
      "outputs": [
        {
          "output_type": "stream",
          "text": [
            "Model: \"model_1\"\n",
            "_________________________________________________________________\n",
            "Layer (type)                 Output Shape              Param #   \n",
            "=================================================================\n",
            "input_4 (InputLayer)         [(None, 150, 150, 3)]     0         \n",
            "_________________________________________________________________\n",
            "vgg16 (Functional)           (None, 4, 4, 512)         14714688  \n",
            "_________________________________________________________________\n",
            "global_average_pooling2d_1 ( (None, 512)               0         \n",
            "_________________________________________________________________\n",
            "dense_1 (Dense)              (None, 1)                 513       \n",
            "=================================================================\n",
            "Total params: 14,715,201\n",
            "Trainable params: 2,360,321\n",
            "Non-trainable params: 12,354,880\n",
            "_________________________________________________________________\n"
          ],
          "name": "stdout"
        }
      ]
    },
    {
      "cell_type": "markdown",
      "metadata": {
        "id": "yv_zjQjAJB2n"
      },
      "source": [
        "### 학습 및 평가\n",
        "학습을 시작합니다."
      ]
    },
    {
      "cell_type": "code",
      "metadata": {
        "colab": {
          "base_uri": "https://localhost:8080/"
        },
        "id": "gEpZ7T0kJIHa",
        "outputId": "64673090-60a2-44b3-9b78-8845fd742421"
      },
      "source": [
        "EPOCHS = 5\n",
        "LEARNING_RATE = 0.001\n",
        "\n",
        "model3.compile(optimizer=tf.keras.optimizers.Adam(learning_rate=LEARNING_RATE),\n",
        "              loss=tf.keras.losses.BinaryCrossentropy(),\n",
        "              metrics=[tf.keras.metrics.BinaryAccuracy()])\n",
        "\n",
        "model3.fit(train_batches, epochs=EPOCHS, validation_data=validation_batches)\n",
        "\n",
        "score = model3.evaluate(test_batches)\n",
        "    \n",
        "print(\"Test loss:\", score[0])\n",
        "print(\"Test accuracy:\", score[1])"
      ],
      "execution_count": null,
      "outputs": [
        {
          "output_type": "stream",
          "text": [
            "Epoch 1/5\n",
            "437/437 [==============================] - 42s 94ms/step - loss: 0.1912 - binary_accuracy: 0.9204 - val_loss: 0.1275 - val_binary_accuracy: 0.9527\n",
            "Epoch 2/5\n",
            "437/437 [==============================] - 41s 95ms/step - loss: 0.1082 - binary_accuracy: 0.9559 - val_loss: 0.1313 - val_binary_accuracy: 0.9504\n",
            "Epoch 3/5\n",
            "437/437 [==============================] - 41s 95ms/step - loss: 0.0785 - binary_accuracy: 0.9715 - val_loss: 0.1311 - val_binary_accuracy: 0.9519\n",
            "Epoch 4/5\n",
            "437/437 [==============================] - 41s 95ms/step - loss: 0.0506 - binary_accuracy: 0.9823 - val_loss: 0.1843 - val_binary_accuracy: 0.9345\n",
            "Epoch 5/5\n",
            "437/437 [==============================] - 41s 95ms/step - loss: 0.0337 - binary_accuracy: 0.9887 - val_loss: 0.1373 - val_binary_accuracy: 0.9562\n",
            "146/146 [==============================] - 10s 67ms/step - loss: 0.1275 - binary_accuracy: 0.9574\n",
            "Test loss: 0.12749724090099335\n",
            "Test accuracy: 0.9574376344680786\n"
          ],
          "name": "stdout"
        }
      ]
    },
    {
      "cell_type": "markdown",
      "metadata": {
        "id": "iDmWklRXJU2u"
      },
      "source": [
        "### 미세조정\n",
        "재학습한 모델을 미세조정하여 정확도를 높입니다."
      ]
    },
    {
      "cell_type": "code",
      "metadata": {
        "colab": {
          "base_uri": "https://localhost:8080/"
        },
        "id": "eqA76jT0JZMP",
        "outputId": "b4892a52-05c1-4c16-fa86-b7a57ba5de76"
      },
      "source": [
        "base_model3.trainable = True # 전체 모델을 학습합니다.\n",
        "model3.summary() # 학습 파라미터의 수가 증가한 것을 확인할 수 있습니다.\n",
        "\n",
        "EPOCHS_TUNING = 5\n",
        "LEARNING_RATE_TUNING = 0.00001 # 처음 학습할 때보다 작게 합니다.\n",
        "\n",
        "model3.compile(optimizer=tf.keras.optimizers.Adam(learning_rate=LEARNING_RATE_TUNING),\n",
        "              loss=tf.keras.losses.BinaryCrossentropy(),\n",
        "              metrics=[tf.keras.metrics.BinaryAccuracy()])\n",
        "\n",
        "model3.fit(train_batches, epochs=EPOCHS_TUNING, validation_data=validation_batches)\n",
        "\n",
        "score_tuning = model3.evaluate(test_batches)\n",
        "    \n",
        "print(\"Test loss:\", score_tuning[0])\n",
        "print(\"Test accuracy:\", score_tuning[1])"
      ],
      "execution_count": null,
      "outputs": [
        {
          "output_type": "stream",
          "text": [
            "Model: \"model_1\"\n",
            "_________________________________________________________________\n",
            "Layer (type)                 Output Shape              Param #   \n",
            "=================================================================\n",
            "input_4 (InputLayer)         [(None, 150, 150, 3)]     0         \n",
            "_________________________________________________________________\n",
            "vgg16 (Functional)           (None, 4, 4, 512)         14714688  \n",
            "_________________________________________________________________\n",
            "global_average_pooling2d_1 ( (None, 512)               0         \n",
            "_________________________________________________________________\n",
            "dense_1 (Dense)              (None, 1)                 513       \n",
            "=================================================================\n",
            "Total params: 14,715,201\n",
            "Trainable params: 14,715,201\n",
            "Non-trainable params: 0\n",
            "_________________________________________________________________\n",
            "Epoch 1/5\n",
            "437/437 [==============================] - 102s 232ms/step - loss: 0.0293 - binary_accuracy: 0.9895 - val_loss: 0.1268 - val_binary_accuracy: 0.9598\n",
            "Epoch 2/5\n",
            "437/437 [==============================] - 101s 231ms/step - loss: 0.0165 - binary_accuracy: 0.9955 - val_loss: 0.1353 - val_binary_accuracy: 0.9613\n",
            "Epoch 3/5\n",
            "437/437 [==============================] - 101s 230ms/step - loss: 0.0071 - binary_accuracy: 0.9977 - val_loss: 0.1358 - val_binary_accuracy: 0.9596\n",
            "Epoch 4/5\n",
            "437/437 [==============================] - 101s 231ms/step - loss: 0.0108 - binary_accuracy: 0.9966 - val_loss: 0.1147 - val_binary_accuracy: 0.9693\n",
            "Epoch 5/5\n",
            "437/437 [==============================] - 101s 231ms/step - loss: 0.0026 - binary_accuracy: 0.9994 - val_loss: 0.2185 - val_binary_accuracy: 0.9577\n",
            "146/146 [==============================] - 10s 67ms/step - loss: 0.1955 - binary_accuracy: 0.9544\n",
            "Test loss: 0.19551222026348114\n",
            "Test accuracy: 0.9544281959533691\n"
          ],
          "name": "stdout"
        }
      ]
    },
    {
      "cell_type": "markdown",
      "metadata": {
        "id": "RAW2zyVmJfXk"
      },
      "source": [
        "실습은 여기까지 입니다. 많은 도움이 되셨나요?\n",
        "\n",
        "모델의 정확도 향상을 위해 몇 가지를 시도해 볼 수 있습니다.\n",
        "1. 입력 이미지 강화 (augmentation)\n",
        "2. 분류기에 dropout 레이어 추가\n",
        "3. 하이퍼파라미터(hyperparameter) 최적화\n",
        "\n",
        "**감사합니다.**\n"
      ]
    }
  ]
}